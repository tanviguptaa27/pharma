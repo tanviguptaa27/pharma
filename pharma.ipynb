{
 "cells": [
  {
   "cell_type": "code",
   "execution_count": 1,
   "id": "a175671a",
   "metadata": {},
   "outputs": [],
   "source": [
    "import numpy as np\n",
    "import pandas as pd\n",
    "from sklearn.model_selection import train_test_split\n",
    "from sklearn.model_selection import KFold\n",
    "from sklearn.linear_model import LinearRegression\n",
    "from sklearn.metrics import mean_absolute_error\n",
    "from sklearn.neural_network import MLPRegressor"
   ]
  },
  {
   "cell_type": "code",
   "execution_count": null,
   "id": "f96ba47d",
   "metadata": {},
   "outputs": [],
   "source": []
  },
  {
   "cell_type": "code",
   "execution_count": 2,
   "id": "52aca080",
   "metadata": {},
   "outputs": [],
   "source": [
    "train1=pd.read_csv(\"pharma train.csv\")\n",
    "test1=pd.read_csv(\"pharama test.csv\")"
   ]
  },
  {
   "cell_type": "code",
   "execution_count": null,
   "id": "beae211a",
   "metadata": {},
   "outputs": [],
   "source": [
    "train1.head(60)"
   ]
  },
  {
   "cell_type": "code",
   "execution_count": 4,
   "id": "784b9faf",
   "metadata": {},
   "outputs": [
    {
     "data": {
      "text/html": [
       "<div>\n",
       "<style scoped>\n",
       "    .dataframe tbody tr th:only-of-type {\n",
       "        vertical-align: middle;\n",
       "    }\n",
       "\n",
       "    .dataframe tbody tr th {\n",
       "        vertical-align: top;\n",
       "    }\n",
       "\n",
       "    .dataframe thead th {\n",
       "        text-align: right;\n",
       "    }\n",
       "</style>\n",
       "<table border=\"1\" class=\"dataframe\">\n",
       "  <thead>\n",
       "    <tr style=\"text-align: right;\">\n",
       "      <th></th>\n",
       "      <th>Medicine_ID</th>\n",
       "      <th>Counterfeit_Weight</th>\n",
       "      <th>DistArea_ID</th>\n",
       "      <th>Active_Since</th>\n",
       "      <th>Medicine_MRP</th>\n",
       "      <th>Medicine_Type</th>\n",
       "      <th>SidEffect_Level</th>\n",
       "      <th>Availability_rating</th>\n",
       "      <th>Area_Type</th>\n",
       "      <th>Area_City_Type</th>\n",
       "      <th>Area_dist_level</th>\n",
       "    </tr>\n",
       "  </thead>\n",
       "  <tbody>\n",
       "    <tr>\n",
       "      <th>0</th>\n",
       "      <td>HLZ81</td>\n",
       "      <td>NaN</td>\n",
       "      <td>Area027</td>\n",
       "      <td>1983</td>\n",
       "      <td>85.5328</td>\n",
       "      <td>Antibiotics</td>\n",
       "      <td>mild</td>\n",
       "      <td>0.112747</td>\n",
       "      <td>CityLimits</td>\n",
       "      <td>Tier 3</td>\n",
       "      <td>Medium</td>\n",
       "    </tr>\n",
       "    <tr>\n",
       "      <th>1</th>\n",
       "      <td>ECE94</td>\n",
       "      <td>13.450</td>\n",
       "      <td>Area045</td>\n",
       "      <td>2000</td>\n",
       "      <td>257.1460</td>\n",
       "      <td>OralContraceptives</td>\n",
       "      <td>mild</td>\n",
       "      <td>0.144446</td>\n",
       "      <td>DownTown</td>\n",
       "      <td>Tier 2</td>\n",
       "      <td>Unknown</td>\n",
       "    </tr>\n",
       "    <tr>\n",
       "      <th>2</th>\n",
       "      <td>SAD14</td>\n",
       "      <td>7.100</td>\n",
       "      <td>Area045</td>\n",
       "      <td>2000</td>\n",
       "      <td>98.1172</td>\n",
       "      <td>Antipyretics</td>\n",
       "      <td>mild</td>\n",
       "      <td>0.144221</td>\n",
       "      <td>DownTown</td>\n",
       "      <td>Tier 2</td>\n",
       "      <td>Unknown</td>\n",
       "    </tr>\n",
       "    <tr>\n",
       "      <th>3</th>\n",
       "      <td>EQV63</td>\n",
       "      <td>18.300</td>\n",
       "      <td>Area010</td>\n",
       "      <td>1996</td>\n",
       "      <td>135.3730</td>\n",
       "      <td>Tranquilizers</td>\n",
       "      <td>mild</td>\n",
       "      <td>0.100388</td>\n",
       "      <td>MidTownResidential</td>\n",
       "      <td>Tier 3</td>\n",
       "      <td>Unknown</td>\n",
       "    </tr>\n",
       "    <tr>\n",
       "      <th>4</th>\n",
       "      <td>AIR10</td>\n",
       "      <td>NaN</td>\n",
       "      <td>Area019</td>\n",
       "      <td>1983</td>\n",
       "      <td>112.8016</td>\n",
       "      <td>OralContraceptives</td>\n",
       "      <td>mild</td>\n",
       "      <td>0.022585</td>\n",
       "      <td>MidTownResidential</td>\n",
       "      <td>Tier 1</td>\n",
       "      <td>Small</td>\n",
       "    </tr>\n",
       "    <tr>\n",
       "      <th>5</th>\n",
       "      <td>LIC37</td>\n",
       "      <td>14.450</td>\n",
       "      <td>Area010</td>\n",
       "      <td>1996</td>\n",
       "      <td>190.2976</td>\n",
       "      <td>OralContraceptives</td>\n",
       "      <td>mild</td>\n",
       "      <td>0.074382</td>\n",
       "      <td>MidTownResidential</td>\n",
       "      <td>Tier 3</td>\n",
       "      <td>Unknown</td>\n",
       "    </tr>\n",
       "    <tr>\n",
       "      <th>6</th>\n",
       "      <td>EXZ14</td>\n",
       "      <td>NaN</td>\n",
       "      <td>Area027</td>\n",
       "      <td>1983</td>\n",
       "      <td>163.3656</td>\n",
       "      <td>OralContraceptives</td>\n",
       "      <td>critical</td>\n",
       "      <td>0.073134</td>\n",
       "      <td>CityLimits</td>\n",
       "      <td>Tier 3</td>\n",
       "      <td>Medium</td>\n",
       "    </tr>\n",
       "    <tr>\n",
       "      <th>7</th>\n",
       "      <td>UCB79</td>\n",
       "      <td>17.150</td>\n",
       "      <td>Area046</td>\n",
       "      <td>1995</td>\n",
       "      <td>226.9166</td>\n",
       "      <td>Antacids</td>\n",
       "      <td>mild</td>\n",
       "      <td>0.082101</td>\n",
       "      <td>DownTown</td>\n",
       "      <td>Tier 1</td>\n",
       "      <td>Small</td>\n",
       "    </tr>\n",
       "    <tr>\n",
       "      <th>8</th>\n",
       "      <td>IDJ12</td>\n",
       "      <td>NaN</td>\n",
       "      <td>Area027</td>\n",
       "      <td>1983</td>\n",
       "      <td>225.0534</td>\n",
       "      <td>OralContraceptives</td>\n",
       "      <td>mild</td>\n",
       "      <td>0.094614</td>\n",
       "      <td>CityLimits</td>\n",
       "      <td>Tier 3</td>\n",
       "      <td>Medium</td>\n",
       "    </tr>\n",
       "    <tr>\n",
       "      <th>9</th>\n",
       "      <td>KLQ71</td>\n",
       "      <td>15.100</td>\n",
       "      <td>Area045</td>\n",
       "      <td>2000</td>\n",
       "      <td>101.0172</td>\n",
       "      <td>Cardiac</td>\n",
       "      <td>critical</td>\n",
       "      <td>0.027763</td>\n",
       "      <td>DownTown</td>\n",
       "      <td>Tier 2</td>\n",
       "      <td>Unknown</td>\n",
       "    </tr>\n",
       "    <tr>\n",
       "      <th>10</th>\n",
       "      <td>NZS82</td>\n",
       "      <td>NaN</td>\n",
       "      <td>Area027</td>\n",
       "      <td>1983</td>\n",
       "      <td>97.7198</td>\n",
       "      <td>Cardiac</td>\n",
       "      <td>mild</td>\n",
       "      <td>0.077607</td>\n",
       "      <td>CityLimits</td>\n",
       "      <td>Tier 3</td>\n",
       "      <td>Medium</td>\n",
       "    </tr>\n",
       "    <tr>\n",
       "      <th>11</th>\n",
       "      <td>TZV99</td>\n",
       "      <td>10.900</td>\n",
       "      <td>Area046</td>\n",
       "      <td>1995</td>\n",
       "      <td>254.7170</td>\n",
       "      <td>Hreplacements</td>\n",
       "      <td>mild</td>\n",
       "      <td>0.048579</td>\n",
       "      <td>DownTown</td>\n",
       "      <td>Tier 1</td>\n",
       "      <td>Small</td>\n",
       "    </tr>\n",
       "    <tr>\n",
       "      <th>12</th>\n",
       "      <td>FWK70</td>\n",
       "      <td>6.760</td>\n",
       "      <td>Area045</td>\n",
       "      <td>2000</td>\n",
       "      <td>155.8786</td>\n",
       "      <td>Antibiotics</td>\n",
       "      <td>critical</td>\n",
       "      <td>0.120274</td>\n",
       "      <td>DownTown</td>\n",
       "      <td>Tier 2</td>\n",
       "      <td>Unknown</td>\n",
       "    </tr>\n",
       "    <tr>\n",
       "      <th>13</th>\n",
       "      <td>LKL13</td>\n",
       "      <td>18.900</td>\n",
       "      <td>Area017</td>\n",
       "      <td>2005</td>\n",
       "      <td>171.7920</td>\n",
       "      <td>Tranquilizers</td>\n",
       "      <td>mild</td>\n",
       "      <td>0.095798</td>\n",
       "      <td>DownTown</td>\n",
       "      <td>Tier 2</td>\n",
       "      <td>Unknown</td>\n",
       "    </tr>\n",
       "    <tr>\n",
       "      <th>14</th>\n",
       "      <td>UFQ12</td>\n",
       "      <td>NaN</td>\n",
       "      <td>Area027</td>\n",
       "      <td>1983</td>\n",
       "      <td>241.0352</td>\n",
       "      <td>Hreplacements</td>\n",
       "      <td>mild</td>\n",
       "      <td>0.104319</td>\n",
       "      <td>CityLimits</td>\n",
       "      <td>Tier 3</td>\n",
       "      <td>Medium</td>\n",
       "    </tr>\n",
       "    <tr>\n",
       "      <th>15</th>\n",
       "      <td>JPE14</td>\n",
       "      <td>14.400</td>\n",
       "      <td>Area018</td>\n",
       "      <td>2007</td>\n",
       "      <td>195.3898</td>\n",
       "      <td>OralContraceptives</td>\n",
       "      <td>mild</td>\n",
       "      <td>0.019087</td>\n",
       "      <td>Industrial</td>\n",
       "      <td>Tier 3</td>\n",
       "      <td>Medium</td>\n",
       "    </tr>\n",
       "    <tr>\n",
       "      <th>16</th>\n",
       "      <td>SGZ11</td>\n",
       "      <td>NaN</td>\n",
       "      <td>Area027</td>\n",
       "      <td>1983</td>\n",
       "      <td>87.3644</td>\n",
       "      <td>Mstablizers</td>\n",
       "      <td>critical</td>\n",
       "      <td>0.064367</td>\n",
       "      <td>CityLimits</td>\n",
       "      <td>Tier 3</td>\n",
       "      <td>Medium</td>\n",
       "    </tr>\n",
       "    <tr>\n",
       "      <th>17</th>\n",
       "      <td>JSD91</td>\n",
       "      <td>19.050</td>\n",
       "      <td>Area013</td>\n",
       "      <td>1985</td>\n",
       "      <td>168.4262</td>\n",
       "      <td>Antibiotics</td>\n",
       "      <td>mild</td>\n",
       "      <td>0.027568</td>\n",
       "      <td>DownTown</td>\n",
       "      <td>Tier 3</td>\n",
       "      <td>High</td>\n",
       "    </tr>\n",
       "    <tr>\n",
       "      <th>18</th>\n",
       "      <td>KSO48</td>\n",
       "      <td>11.495</td>\n",
       "      <td>Area046</td>\n",
       "      <td>1995</td>\n",
       "      <td>204.3794</td>\n",
       "      <td>Antipyretics</td>\n",
       "      <td>critical</td>\n",
       "      <td>0.158867</td>\n",
       "      <td>DownTown</td>\n",
       "      <td>Tier 1</td>\n",
       "      <td>Small</td>\n",
       "    </tr>\n",
       "    <tr>\n",
       "      <th>19</th>\n",
       "      <td>LNA17</td>\n",
       "      <td>17.650</td>\n",
       "      <td>Area017</td>\n",
       "      <td>2005</td>\n",
       "      <td>61.1324</td>\n",
       "      <td>Antibiotics</td>\n",
       "      <td>mild</td>\n",
       "      <td>0.033664</td>\n",
       "      <td>DownTown</td>\n",
       "      <td>Tier 2</td>\n",
       "      <td>Unknown</td>\n",
       "    </tr>\n",
       "  </tbody>\n",
       "</table>\n",
       "</div>"
      ],
      "text/plain": [
       "   Medicine_ID  Counterfeit_Weight DistArea_ID  Active_Since  Medicine_MRP  \\\n",
       "0        HLZ81                 NaN     Area027          1983       85.5328   \n",
       "1        ECE94              13.450     Area045          2000      257.1460   \n",
       "2        SAD14               7.100     Area045          2000       98.1172   \n",
       "3        EQV63              18.300     Area010          1996      135.3730   \n",
       "4        AIR10                 NaN     Area019          1983      112.8016   \n",
       "5        LIC37              14.450     Area010          1996      190.2976   \n",
       "6        EXZ14                 NaN     Area027          1983      163.3656   \n",
       "7        UCB79              17.150     Area046          1995      226.9166   \n",
       "8        IDJ12                 NaN     Area027          1983      225.0534   \n",
       "9        KLQ71              15.100     Area045          2000      101.0172   \n",
       "10       NZS82                 NaN     Area027          1983       97.7198   \n",
       "11       TZV99              10.900     Area046          1995      254.7170   \n",
       "12       FWK70               6.760     Area045          2000      155.8786   \n",
       "13       LKL13              18.900     Area017          2005      171.7920   \n",
       "14       UFQ12                 NaN     Area027          1983      241.0352   \n",
       "15       JPE14              14.400     Area018          2007      195.3898   \n",
       "16       SGZ11                 NaN     Area027          1983       87.3644   \n",
       "17       JSD91              19.050     Area013          1985      168.4262   \n",
       "18       KSO48              11.495     Area046          1995      204.3794   \n",
       "19       LNA17              17.650     Area017          2005       61.1324   \n",
       "\n",
       "         Medicine_Type SidEffect_Level  Availability_rating  \\\n",
       "0          Antibiotics            mild             0.112747   \n",
       "1   OralContraceptives            mild             0.144446   \n",
       "2         Antipyretics            mild             0.144221   \n",
       "3        Tranquilizers            mild             0.100388   \n",
       "4   OralContraceptives            mild             0.022585   \n",
       "5   OralContraceptives            mild             0.074382   \n",
       "6   OralContraceptives        critical             0.073134   \n",
       "7             Antacids            mild             0.082101   \n",
       "8   OralContraceptives            mild             0.094614   \n",
       "9              Cardiac        critical             0.027763   \n",
       "10             Cardiac            mild             0.077607   \n",
       "11       Hreplacements            mild             0.048579   \n",
       "12         Antibiotics        critical             0.120274   \n",
       "13       Tranquilizers            mild             0.095798   \n",
       "14       Hreplacements            mild             0.104319   \n",
       "15  OralContraceptives            mild             0.019087   \n",
       "16         Mstablizers        critical             0.064367   \n",
       "17         Antibiotics            mild             0.027568   \n",
       "18        Antipyretics        critical             0.158867   \n",
       "19         Antibiotics            mild             0.033664   \n",
       "\n",
       "             Area_Type Area_City_Type Area_dist_level  \n",
       "0           CityLimits         Tier 3          Medium  \n",
       "1             DownTown         Tier 2         Unknown  \n",
       "2             DownTown         Tier 2         Unknown  \n",
       "3   MidTownResidential         Tier 3         Unknown  \n",
       "4   MidTownResidential         Tier 1           Small  \n",
       "5   MidTownResidential         Tier 3         Unknown  \n",
       "6           CityLimits         Tier 3          Medium  \n",
       "7             DownTown         Tier 1           Small  \n",
       "8           CityLimits         Tier 3          Medium  \n",
       "9             DownTown         Tier 2         Unknown  \n",
       "10          CityLimits         Tier 3          Medium  \n",
       "11            DownTown         Tier 1           Small  \n",
       "12            DownTown         Tier 2         Unknown  \n",
       "13            DownTown         Tier 2         Unknown  \n",
       "14          CityLimits         Tier 3          Medium  \n",
       "15          Industrial         Tier 3          Medium  \n",
       "16          CityLimits         Tier 3          Medium  \n",
       "17            DownTown         Tier 3            High  \n",
       "18            DownTown         Tier 1           Small  \n",
       "19            DownTown         Tier 2         Unknown  "
      ]
     },
     "execution_count": 4,
     "metadata": {},
     "output_type": "execute_result"
    }
   ],
   "source": [
    "test1.head(20)"
   ]
  },
  {
   "cell_type": "code",
   "execution_count": 5,
   "id": "b6142171",
   "metadata": {},
   "outputs": [
    {
     "data": {
      "text/plain": [
       "(6818, 12)"
      ]
     },
     "execution_count": 5,
     "metadata": {},
     "output_type": "execute_result"
    }
   ],
   "source": [
    "train1.shape"
   ]
  },
  {
   "cell_type": "code",
   "execution_count": 6,
   "id": "09965ac8",
   "metadata": {},
   "outputs": [
    {
     "data": {
      "text/plain": [
       "(1705, 11)"
      ]
     },
     "execution_count": 6,
     "metadata": {},
     "output_type": "execute_result"
    }
   ],
   "source": [
    "test1.shape"
   ]
  },
  {
   "cell_type": "code",
   "execution_count": 7,
   "id": "7656fef9",
   "metadata": {},
   "outputs": [
    {
     "name": "stdout",
     "output_type": "stream",
     "text": [
      "<class 'pandas.core.frame.DataFrame'>\n",
      "RangeIndex: 6818 entries, 0 to 6817\n",
      "Data columns (total 12 columns):\n",
      " #   Column               Non-Null Count  Dtype  \n",
      "---  ------               --------------  -----  \n",
      " 0   Medicine_ID          6818 non-null   object \n",
      " 1   Counterfeit_Weight   5652 non-null   float64\n",
      " 2   DistArea_ID          6818 non-null   object \n",
      " 3   Active_Since         6818 non-null   int64  \n",
      " 4   Medicine_MRP         6818 non-null   float64\n",
      " 5   Medicine_Type        6818 non-null   object \n",
      " 6   SidEffect_Level      6818 non-null   object \n",
      " 7   Availability_rating  6818 non-null   float64\n",
      " 8   Area_Type            6818 non-null   object \n",
      " 9   Area_City_Type       6818 non-null   object \n",
      " 10  Area_dist_level      6818 non-null   object \n",
      " 11  Counterfeit_Sales    6818 non-null   float64\n",
      "dtypes: float64(4), int64(1), object(7)\n",
      "memory usage: 639.3+ KB\n"
     ]
    }
   ],
   "source": [
    "train1.info()"
   ]
  },
  {
   "cell_type": "code",
   "execution_count": 8,
   "id": "ded95a02",
   "metadata": {},
   "outputs": [
    {
     "name": "stdout",
     "output_type": "stream",
     "text": [
      "<class 'pandas.core.frame.DataFrame'>\n",
      "RangeIndex: 1705 entries, 0 to 1704\n",
      "Data columns (total 11 columns):\n",
      " #   Column               Non-Null Count  Dtype  \n",
      "---  ------               --------------  -----  \n",
      " 0   Medicine_ID          1705 non-null   object \n",
      " 1   Counterfeit_Weight   1408 non-null   float64\n",
      " 2   DistArea_ID          1705 non-null   object \n",
      " 3   Active_Since         1705 non-null   int64  \n",
      " 4   Medicine_MRP         1705 non-null   float64\n",
      " 5   Medicine_Type        1705 non-null   object \n",
      " 6   SidEffect_Level      1705 non-null   object \n",
      " 7   Availability_rating  1705 non-null   float64\n",
      " 8   Area_Type            1705 non-null   object \n",
      " 9   Area_City_Type       1705 non-null   object \n",
      " 10  Area_dist_level      1705 non-null   object \n",
      "dtypes: float64(3), int64(1), object(7)\n",
      "memory usage: 146.6+ KB\n"
     ]
    }
   ],
   "source": [
    "test1.info()"
   ]
  },
  {
   "cell_type": "code",
   "execution_count": 9,
   "id": "a15c04f4",
   "metadata": {},
   "outputs": [
    {
     "data": {
      "text/plain": [
       "Medicine_ID             object\n",
       "Counterfeit_Weight     float64\n",
       "DistArea_ID             object\n",
       "Active_Since             int64\n",
       "Medicine_MRP           float64\n",
       "Medicine_Type           object\n",
       "SidEffect_Level         object\n",
       "Availability_rating    float64\n",
       "Area_Type               object\n",
       "Area_City_Type          object\n",
       "Area_dist_level         object\n",
       "Counterfeit_Sales      float64\n",
       "dtype: object"
      ]
     },
     "execution_count": 9,
     "metadata": {},
     "output_type": "execute_result"
    }
   ],
   "source": [
    "train1.dtypes"
   ]
  },
  {
   "cell_type": "code",
   "execution_count": 10,
   "id": "bbd6b7a0",
   "metadata": {},
   "outputs": [
    {
     "data": {
      "text/plain": [
       "Medicine_ID             object\n",
       "Counterfeit_Weight     float64\n",
       "DistArea_ID             object\n",
       "Active_Since             int64\n",
       "Medicine_MRP           float64\n",
       "Medicine_Type           object\n",
       "SidEffect_Level         object\n",
       "Availability_rating    float64\n",
       "Area_Type               object\n",
       "Area_City_Type          object\n",
       "Area_dist_level         object\n",
       "dtype: object"
      ]
     },
     "execution_count": 10,
     "metadata": {},
     "output_type": "execute_result"
    }
   ],
   "source": [
    "test1.dtypes"
   ]
  },
  {
   "cell_type": "code",
   "execution_count": 11,
   "id": "700f8d50",
   "metadata": {},
   "outputs": [
    {
     "data": {
      "text/plain": [
       "Medicine_ID               0\n",
       "Counterfeit_Weight     1166\n",
       "DistArea_ID               0\n",
       "Active_Since              0\n",
       "Medicine_MRP              0\n",
       "Medicine_Type             0\n",
       "SidEffect_Level           0\n",
       "Availability_rating       0\n",
       "Area_Type                 0\n",
       "Area_City_Type            0\n",
       "Area_dist_level           0\n",
       "Counterfeit_Sales         0\n",
       "dtype: int64"
      ]
     },
     "execution_count": 11,
     "metadata": {},
     "output_type": "execute_result"
    }
   ],
   "source": [
    "train1.isnull().sum()"
   ]
  },
  {
   "cell_type": "code",
   "execution_count": 12,
   "id": "e2baa027",
   "metadata": {},
   "outputs": [
    {
     "data": {
      "text/plain": [
       "Medicine_ID              0\n",
       "Counterfeit_Weight     297\n",
       "DistArea_ID              0\n",
       "Active_Since             0\n",
       "Medicine_MRP             0\n",
       "Medicine_Type            0\n",
       "SidEffect_Level          0\n",
       "Availability_rating      0\n",
       "Area_Type                0\n",
       "Area_City_Type           0\n",
       "Area_dist_level          0\n",
       "dtype: int64"
      ]
     },
     "execution_count": 12,
     "metadata": {},
     "output_type": "execute_result"
    }
   ],
   "source": [
    "test1.isnull().sum()"
   ]
  },
  {
   "cell_type": "code",
   "execution_count": 13,
   "id": "47d3f637",
   "metadata": {},
   "outputs": [],
   "source": [
    "test1['Counterfeit_Sales']=np.nan\n",
    "test1['data']='test'\n",
    "train1['data']='train'"
   ]
  },
  {
   "cell_type": "code",
   "execution_count": 14,
   "id": "35f5670b",
   "metadata": {},
   "outputs": [],
   "source": [
    "data=pd.concat([train1,test1], axis=0)"
   ]
  },
  {
   "cell_type": "code",
   "execution_count": 15,
   "id": "41d568ce",
   "metadata": {},
   "outputs": [
    {
     "data": {
      "text/plain": [
       "Medicine_ID             object\n",
       "Counterfeit_Weight     float64\n",
       "DistArea_ID             object\n",
       "Active_Since             int64\n",
       "Medicine_MRP           float64\n",
       "Medicine_Type           object\n",
       "SidEffect_Level         object\n",
       "Availability_rating    float64\n",
       "Area_Type               object\n",
       "Area_City_Type          object\n",
       "Area_dist_level         object\n",
       "Counterfeit_Sales      float64\n",
       "data                    object\n",
       "dtype: object"
      ]
     },
     "execution_count": 15,
     "metadata": {},
     "output_type": "execute_result"
    }
   ],
   "source": [
    "data.dtypes"
   ]
  },
  {
   "cell_type": "code",
   "execution_count": 16,
   "id": "623d1b3b",
   "metadata": {},
   "outputs": [
    {
     "name": "stdout",
     "output_type": "stream",
     "text": [
      "Help on function crosstab in module pandas.core.reshape.pivot:\n",
      "\n",
      "crosstab(index, columns, values=None, rownames=None, colnames=None, aggfunc=None, margins=False, margins_name: str = 'All', dropna: bool = True, normalize=False) -> 'DataFrame'\n",
      "    Compute a simple cross tabulation of two (or more) factors. By default\n",
      "    computes a frequency table of the factors unless an array of values and an\n",
      "    aggregation function are passed.\n",
      "    \n",
      "    Parameters\n",
      "    ----------\n",
      "    index : array-like, Series, or list of arrays/Series\n",
      "        Values to group by in the rows.\n",
      "    columns : array-like, Series, or list of arrays/Series\n",
      "        Values to group by in the columns.\n",
      "    values : array-like, optional\n",
      "        Array of values to aggregate according to the factors.\n",
      "        Requires `aggfunc` be specified.\n",
      "    rownames : sequence, default None\n",
      "        If passed, must match number of row arrays passed.\n",
      "    colnames : sequence, default None\n",
      "        If passed, must match number of column arrays passed.\n",
      "    aggfunc : function, optional\n",
      "        If specified, requires `values` be specified as well.\n",
      "    margins : bool, default False\n",
      "        Add row/column margins (subtotals).\n",
      "    margins_name : str, default 'All'\n",
      "        Name of the row/column that will contain the totals\n",
      "        when margins is True.\n",
      "    dropna : bool, default True\n",
      "        Do not include columns whose entries are all NaN.\n",
      "    normalize : bool, {'all', 'index', 'columns'}, or {0,1}, default False\n",
      "        Normalize by dividing all values by the sum of values.\n",
      "    \n",
      "        - If passed 'all' or `True`, will normalize over all values.\n",
      "        - If passed 'index' will normalize over each row.\n",
      "        - If passed 'columns' will normalize over each column.\n",
      "        - If margins is `True`, will also normalize margin values.\n",
      "    \n",
      "    Returns\n",
      "    -------\n",
      "    DataFrame\n",
      "        Cross tabulation of the data.\n",
      "    \n",
      "    See Also\n",
      "    --------\n",
      "    DataFrame.pivot : Reshape data based on column values.\n",
      "    pivot_table : Create a pivot table as a DataFrame.\n",
      "    \n",
      "    Notes\n",
      "    -----\n",
      "    Any Series passed will have their name attributes used unless row or column\n",
      "    names for the cross-tabulation are specified.\n",
      "    \n",
      "    Any input passed containing Categorical data will have **all** of its\n",
      "    categories included in the cross-tabulation, even if the actual data does\n",
      "    not contain any instances of a particular category.\n",
      "    \n",
      "    In the event that there aren't overlapping indexes an empty DataFrame will\n",
      "    be returned.\n",
      "    \n",
      "    Examples\n",
      "    --------\n",
      "    >>> a = np.array([\"foo\", \"foo\", \"foo\", \"foo\", \"bar\", \"bar\",\n",
      "    ...               \"bar\", \"bar\", \"foo\", \"foo\", \"foo\"], dtype=object)\n",
      "    >>> b = np.array([\"one\", \"one\", \"one\", \"two\", \"one\", \"one\",\n",
      "    ...               \"one\", \"two\", \"two\", \"two\", \"one\"], dtype=object)\n",
      "    >>> c = np.array([\"dull\", \"dull\", \"shiny\", \"dull\", \"dull\", \"shiny\",\n",
      "    ...               \"shiny\", \"dull\", \"shiny\", \"shiny\", \"shiny\"],\n",
      "    ...              dtype=object)\n",
      "    >>> pd.crosstab(a, [b, c], rownames=['a'], colnames=['b', 'c'])\n",
      "    b   one        two\n",
      "    c   dull shiny dull shiny\n",
      "    a\n",
      "    bar    1     2    1     0\n",
      "    foo    2     2    1     2\n",
      "    \n",
      "    Here 'c' and 'f' are not represented in the data and will not be\n",
      "    shown in the output because dropna is True by default. Set\n",
      "    dropna=False to preserve categories with no data.\n",
      "    \n",
      "    >>> foo = pd.Categorical(['a', 'b'], categories=['a', 'b', 'c'])\n",
      "    >>> bar = pd.Categorical(['d', 'e'], categories=['d', 'e', 'f'])\n",
      "    >>> pd.crosstab(foo, bar)\n",
      "    col_0  d  e\n",
      "    row_0\n",
      "    a      1  0\n",
      "    b      0  1\n",
      "    >>> pd.crosstab(foo, bar, dropna=False)\n",
      "    col_0  d  e  f\n",
      "    row_0\n",
      "    a      1  0  0\n",
      "    b      0  1  0\n",
      "    c      0  0  0\n",
      "\n"
     ]
    }
   ],
   "source": [
    "help(pd.crosstab)\n"
   ]
  },
  {
   "cell_type": "code",
   "execution_count": 17,
   "id": "f29adb60",
   "metadata": {},
   "outputs": [
    {
     "data": {
      "text/plain": [
       "Medium     2793\n",
       "Unknown    2410\n",
       "Small      2388\n",
       "High        932\n",
       "Name: Area_dist_level, dtype: int64"
      ]
     },
     "execution_count": 17,
     "metadata": {},
     "output_type": "execute_result"
    }
   ],
   "source": [
    "data['Area_dist_level'].value_counts()"
   ]
  },
  {
   "cell_type": "code",
   "execution_count": 18,
   "id": "655f0e3c",
   "metadata": {},
   "outputs": [
    {
     "data": {
      "text/plain": [
       "Tier 3    3350\n",
       "Tier 2    2785\n",
       "Tier 1    2388\n",
       "Name: Area_City_Type, dtype: int64"
      ]
     },
     "execution_count": 18,
     "metadata": {},
     "output_type": "execute_result"
    }
   ],
   "source": [
    "data['Area_City_Type'].value_counts()"
   ]
  },
  {
   "cell_type": "code",
   "execution_count": 19,
   "id": "16a1f945",
   "metadata": {},
   "outputs": [
    {
     "data": {
      "text/plain": [
       "(8523, 13)"
      ]
     },
     "execution_count": 19,
     "metadata": {},
     "output_type": "execute_result"
    }
   ],
   "source": [
    "data.shape"
   ]
  },
  {
   "cell_type": "code",
   "execution_count": 20,
   "id": "5bcabd70",
   "metadata": {},
   "outputs": [],
   "source": [
    "del data['Area_dist_level']"
   ]
  },
  {
   "cell_type": "code",
   "execution_count": 21,
   "id": "848d025f",
   "metadata": {},
   "outputs": [],
   "source": [
    "varss=data.select_dtypes(['object']).columns"
   ]
  },
  {
   "cell_type": "code",
   "execution_count": 22,
   "id": "ce791fc2",
   "metadata": {},
   "outputs": [
    {
     "data": {
      "text/plain": [
       "Index(['Medicine_ID', 'DistArea_ID', 'Medicine_Type', 'SidEffect_Level',\n",
       "       'Area_Type', 'Area_City_Type', 'data'],\n",
       "      dtype='object')"
      ]
     },
     "execution_count": 22,
     "metadata": {},
     "output_type": "execute_result"
    }
   ],
   "source": [
    "varss"
   ]
  },
  {
   "cell_type": "code",
   "execution_count": 23,
   "id": "cf848026",
   "metadata": {},
   "outputs": [
    {
     "name": "stdout",
     "output_type": "stream",
     "text": [
      "Medicine_ID\n",
      "DistArea_ID\n",
      "Medicine_Type\n",
      "SidEffect_Level\n",
      "Area_Type\n",
      "Area_City_Type\n"
     ]
    }
   ],
   "source": [
    "for col in varss[:-1]:\n",
    "    dummy=pd.get_dummies(data[col],drop_first=True,prefix=col)\n",
    "    data=pd.concat([data,dummy],axis=1)\n",
    "    del data[col]\n",
    "    print(col)\n",
    "del dummy"
   ]
  },
  {
   "cell_type": "code",
   "execution_count": 24,
   "id": "8b583ac9",
   "metadata": {},
   "outputs": [
    {
     "data": {
      "text/plain": [
       "Counterfeit_Weight     float64\n",
       "Active_Since             int64\n",
       "Medicine_MRP           float64\n",
       "Availability_rating    float64\n",
       "Counterfeit_Sales      float64\n",
       "data                    object\n",
       "Medicine_ID_AAS12        uint8\n",
       "Medicine_ID_ACC80        uint8\n",
       "Medicine_ID_ACW12        uint8\n",
       "Medicine_ID_ADE15        uint8\n",
       "Medicine_ID_ADO13        uint8\n",
       "Medicine_ID_ADT76        uint8\n",
       "Medicine_ID_AEF11        uint8\n",
       "Medicine_ID_AEL80        uint8\n",
       "Medicine_ID_AEN20        uint8\n",
       "Medicine_ID_AEX84        uint8\n",
       "Medicine_ID_AFO34        uint8\n",
       "Medicine_ID_AFS55        uint8\n",
       "Medicine_ID_AFT64        uint8\n",
       "Medicine_ID_AGF42        uint8\n",
       "Medicine_ID_AGR82        uint8\n",
       "Medicine_ID_AHC49        uint8\n",
       "Medicine_ID_AHC53        uint8\n",
       "Medicine_ID_AHD74        uint8\n",
       "Medicine_ID_AHF89        uint8\n",
       "Medicine_ID_AHZ10        uint8\n",
       "Medicine_ID_AHZ15        uint8\n",
       "Medicine_ID_AIR10        uint8\n",
       "Medicine_ID_AJA15        uint8\n",
       "Medicine_ID_AJF83        uint8\n",
       "Medicine_ID_AJM90        uint8\n",
       "Medicine_ID_AJO33        uint8\n",
       "Medicine_ID_AKD11        uint8\n",
       "Medicine_ID_AKE16        uint8\n",
       "Medicine_ID_ALP15        uint8\n",
       "Medicine_ID_ALQ91        uint8\n",
       "Medicine_ID_ALR12        uint8\n",
       "Medicine_ID_ALR41        uint8\n",
       "Medicine_ID_ALV12        uint8\n",
       "Medicine_ID_ANL15        uint8\n",
       "dtype: object"
      ]
     },
     "execution_count": 24,
     "metadata": {},
     "output_type": "execute_result"
    }
   ],
   "source": [
    "data.dtypes.head(40)"
   ]
  },
  {
   "cell_type": "code",
   "execution_count": 25,
   "id": "0f350c20",
   "metadata": {},
   "outputs": [
    {
     "data": {
      "text/plain": [
       "(8523, 1592)"
      ]
     },
     "execution_count": 25,
     "metadata": {},
     "output_type": "execute_result"
    }
   ],
   "source": [
    "data.shape"
   ]
  },
  {
   "cell_type": "code",
   "execution_count": 26,
   "id": "3af9622a",
   "metadata": {},
   "outputs": [],
   "source": [
    "data['Counterfeit_Weight'].fillna(data['Counterfeit_Weight'].mean(), inplace=True)"
   ]
  },
  {
   "cell_type": "code",
   "execution_count": 27,
   "id": "d6fb908a",
   "metadata": {},
   "outputs": [],
   "source": [
    "data['Counterfeit_Sales'].fillna(data['Counterfeit_Sales'].mean(), inplace=True)"
   ]
  },
  {
   "cell_type": "code",
   "execution_count": 28,
   "id": "06f9cc72",
   "metadata": {},
   "outputs": [
    {
     "data": {
      "text/plain": [
       "Counterfeit_Weight     0\n",
       "Active_Since           0\n",
       "Medicine_MRP           0\n",
       "Availability_rating    0\n",
       "Counterfeit_Sales      0\n",
       "data                   0\n",
       "Medicine_ID_AAS12      0\n",
       "Medicine_ID_ACC80      0\n",
       "Medicine_ID_ACW12      0\n",
       "Medicine_ID_ADE15      0\n",
       "Medicine_ID_ADO13      0\n",
       "Medicine_ID_ADT76      0\n",
       "Medicine_ID_AEF11      0\n",
       "Medicine_ID_AEL80      0\n",
       "Medicine_ID_AEN20      0\n",
       "Medicine_ID_AEX84      0\n",
       "Medicine_ID_AFO34      0\n",
       "Medicine_ID_AFS55      0\n",
       "Medicine_ID_AFT64      0\n",
       "Medicine_ID_AGF42      0\n",
       "Medicine_ID_AGR82      0\n",
       "Medicine_ID_AHC49      0\n",
       "Medicine_ID_AHC53      0\n",
       "Medicine_ID_AHD74      0\n",
       "Medicine_ID_AHF89      0\n",
       "Medicine_ID_AHZ10      0\n",
       "Medicine_ID_AHZ15      0\n",
       "Medicine_ID_AIR10      0\n",
       "Medicine_ID_AJA15      0\n",
       "Medicine_ID_AJF83      0\n",
       "Medicine_ID_AJM90      0\n",
       "Medicine_ID_AJO33      0\n",
       "Medicine_ID_AKD11      0\n",
       "Medicine_ID_AKE16      0\n",
       "Medicine_ID_ALP15      0\n",
       "Medicine_ID_ALQ91      0\n",
       "Medicine_ID_ALR12      0\n",
       "Medicine_ID_ALR41      0\n",
       "Medicine_ID_ALV12      0\n",
       "Medicine_ID_ANL15      0\n",
       "Medicine_ID_ANT78      0\n",
       "Medicine_ID_ANV76      0\n",
       "Medicine_ID_AOQ13      0\n",
       "Medicine_ID_APE89      0\n",
       "Medicine_ID_APS97      0\n",
       "Medicine_ID_APX13      0\n",
       "Medicine_ID_APX64      0\n",
       "Medicine_ID_AQV12      0\n",
       "Medicine_ID_AQW42      0\n",
       "Medicine_ID_ARL38      0\n",
       "dtype: int64"
      ]
     },
     "execution_count": 28,
     "metadata": {},
     "output_type": "execute_result"
    }
   ],
   "source": [
    "data.isnull().sum().head(50)"
   ]
  },
  {
   "cell_type": "code",
   "execution_count": 29,
   "id": "d149e181",
   "metadata": {},
   "outputs": [],
   "source": [
    "train1=data[data['data']=='train']\n",
    "test1=data[data['data']=='test']"
   ]
  },
  {
   "cell_type": "code",
   "execution_count": 30,
   "id": "783d1eb9",
   "metadata": {},
   "outputs": [],
   "source": [
    "del train1['data']"
   ]
  },
  {
   "cell_type": "code",
   "execution_count": 31,
   "id": "b6547392",
   "metadata": {},
   "outputs": [
    {
     "name": "stderr",
     "output_type": "stream",
     "text": [
      "C:\\Users\\gupta\\anaconda3\\lib\\site-packages\\pandas\\core\\frame.py:4308: SettingWithCopyWarning: \n",
      "A value is trying to be set on a copy of a slice from a DataFrame\n",
      "\n",
      "See the caveats in the documentation: https://pandas.pydata.org/pandas-docs/stable/user_guide/indexing.html#returning-a-view-versus-a-copy\n",
      "  return super().drop(\n"
     ]
    }
   ],
   "source": [
    "test1.drop(['data','Counterfeit_Sales'],axis=1,inplace=True)"
   ]
  },
  {
   "cell_type": "code",
   "execution_count": 32,
   "id": "d9d731e3",
   "metadata": {},
   "outputs": [],
   "source": [
    "from sklearn.model_selection import cross_val_predict, GridSearchCV\n",
    "from sklearn.ensemble import RandomForestRegressor\n",
    "from sklearn.preprocessing import MinMaxScaler"
   ]
  },
  {
   "cell_type": "code",
   "execution_count": 33,
   "id": "1ebf8ddc",
   "metadata": {},
   "outputs": [],
   "source": [
    "from sklearn.model_selection import RandomizedSearchCV"
   ]
  },
  {
   "cell_type": "code",
   "execution_count": 34,
   "id": "9d175950",
   "metadata": {},
   "outputs": [],
   "source": [
    "x_train=train1.drop(['Counterfeit_Sales'], axis=1)"
   ]
  },
  {
   "cell_type": "code",
   "execution_count": 35,
   "id": "3e3efdaf",
   "metadata": {},
   "outputs": [],
   "source": [
    "y_train= train1['Counterfeit_Sales']"
   ]
  },
  {
   "cell_type": "code",
   "execution_count": 36,
   "id": "9c3b4e34",
   "metadata": {},
   "outputs": [],
   "source": [
    "rf = RandomForestRegressor( random_state=42)"
   ]
  },
  {
   "cell_type": "code",
   "execution_count": 37,
   "id": "d9eb65e4",
   "metadata": {},
   "outputs": [],
   "source": [
    "param_dist={'max_depth': range(3,7),\n",
    "            'n_estimators': (10, 50,15,20,25)}"
   ]
  },
  {
   "cell_type": "code",
   "execution_count": 38,
   "id": "a12ece35",
   "metadata": {},
   "outputs": [],
   "source": [
    "n_iter_search=10"
   ]
  },
  {
   "cell_type": "code",
   "execution_count": 39,
   "id": "c7c8bab3",
   "metadata": {},
   "outputs": [],
   "source": [
    "random_search = RandomizedSearchCV(rf, param_distributions=param_dist,n_iter=n_iter_search,scoring='neg_mean_squared_error',cv=10,verbose=20)"
   ]
  },
  {
   "cell_type": "code",
   "execution_count": 40,
   "id": "b76bebc2",
   "metadata": {},
   "outputs": [
    {
     "name": "stdout",
     "output_type": "stream",
     "text": [
      "Fitting 10 folds for each of 10 candidates, totalling 100 fits\n",
      "[CV 1/10; 1/10] START max_depth=3, n_estimators=20..............................\n",
      "[CV 1/10; 1/10] END ............max_depth=3, n_estimators=20; total time=   3.5s\n",
      "[CV 2/10; 1/10] START max_depth=3, n_estimators=20..............................\n",
      "[CV 2/10; 1/10] END ............max_depth=3, n_estimators=20; total time=   3.2s\n",
      "[CV 3/10; 1/10] START max_depth=3, n_estimators=20..............................\n",
      "[CV 3/10; 1/10] END ............max_depth=3, n_estimators=20; total time=   3.4s\n",
      "[CV 4/10; 1/10] START max_depth=3, n_estimators=20..............................\n",
      "[CV 4/10; 1/10] END ............max_depth=3, n_estimators=20; total time=   4.0s\n",
      "[CV 5/10; 1/10] START max_depth=3, n_estimators=20..............................\n",
      "[CV 5/10; 1/10] END ............max_depth=3, n_estimators=20; total time=   3.7s\n",
      "[CV 6/10; 1/10] START max_depth=3, n_estimators=20..............................\n",
      "[CV 6/10; 1/10] END ............max_depth=3, n_estimators=20; total time=   3.3s\n",
      "[CV 7/10; 1/10] START max_depth=3, n_estimators=20..............................\n",
      "[CV 7/10; 1/10] END ............max_depth=3, n_estimators=20; total time=   3.2s\n",
      "[CV 8/10; 1/10] START max_depth=3, n_estimators=20..............................\n",
      "[CV 8/10; 1/10] END ............max_depth=3, n_estimators=20; total time=   4.1s\n",
      "[CV 9/10; 1/10] START max_depth=3, n_estimators=20..............................\n",
      "[CV 9/10; 1/10] END ............max_depth=3, n_estimators=20; total time=   4.1s\n",
      "[CV 10/10; 1/10] START max_depth=3, n_estimators=20.............................\n",
      "[CV 10/10; 1/10] END ...........max_depth=3, n_estimators=20; total time=   3.3s\n",
      "[CV 1/10; 2/10] START max_depth=6, n_estimators=20..............................\n",
      "[CV 1/10; 2/10] END ............max_depth=6, n_estimators=20; total time=   5.7s\n",
      "[CV 2/10; 2/10] START max_depth=6, n_estimators=20..............................\n",
      "[CV 2/10; 2/10] END ............max_depth=6, n_estimators=20; total time=   6.0s\n",
      "[CV 3/10; 2/10] START max_depth=6, n_estimators=20..............................\n",
      "[CV 3/10; 2/10] END ............max_depth=6, n_estimators=20; total time=   5.4s\n",
      "[CV 4/10; 2/10] START max_depth=6, n_estimators=20..............................\n",
      "[CV 4/10; 2/10] END ............max_depth=6, n_estimators=20; total time=   5.4s\n",
      "[CV 5/10; 2/10] START max_depth=6, n_estimators=20..............................\n",
      "[CV 5/10; 2/10] END ............max_depth=6, n_estimators=20; total time=   5.9s\n",
      "[CV 6/10; 2/10] START max_depth=6, n_estimators=20..............................\n",
      "[CV 6/10; 2/10] END ............max_depth=6, n_estimators=20; total time=   5.4s\n",
      "[CV 7/10; 2/10] START max_depth=6, n_estimators=20..............................\n",
      "[CV 7/10; 2/10] END ............max_depth=6, n_estimators=20; total time=   6.1s\n",
      "[CV 8/10; 2/10] START max_depth=6, n_estimators=20..............................\n",
      "[CV 8/10; 2/10] END ............max_depth=6, n_estimators=20; total time=   6.3s\n",
      "[CV 9/10; 2/10] START max_depth=6, n_estimators=20..............................\n",
      "[CV 9/10; 2/10] END ............max_depth=6, n_estimators=20; total time=   6.3s\n",
      "[CV 10/10; 2/10] START max_depth=6, n_estimators=20.............................\n",
      "[CV 10/10; 2/10] END ...........max_depth=6, n_estimators=20; total time=   6.7s\n",
      "[CV 1/10; 3/10] START max_depth=6, n_estimators=15..............................\n",
      "[CV 1/10; 3/10] END ............max_depth=6, n_estimators=15; total time=   5.4s\n",
      "[CV 2/10; 3/10] START max_depth=6, n_estimators=15..............................\n",
      "[CV 2/10; 3/10] END ............max_depth=6, n_estimators=15; total time=   4.7s\n",
      "[CV 3/10; 3/10] START max_depth=6, n_estimators=15..............................\n",
      "[CV 3/10; 3/10] END ............max_depth=6, n_estimators=15; total time=   5.2s\n",
      "[CV 4/10; 3/10] START max_depth=6, n_estimators=15..............................\n",
      "[CV 4/10; 3/10] END ............max_depth=6, n_estimators=15; total time=   4.7s\n",
      "[CV 5/10; 3/10] START max_depth=6, n_estimators=15..............................\n",
      "[CV 5/10; 3/10] END ............max_depth=6, n_estimators=15; total time=   4.8s\n",
      "[CV 6/10; 3/10] START max_depth=6, n_estimators=15..............................\n",
      "[CV 6/10; 3/10] END ............max_depth=6, n_estimators=15; total time=   5.1s\n",
      "[CV 7/10; 3/10] START max_depth=6, n_estimators=15..............................\n",
      "[CV 7/10; 3/10] END ............max_depth=6, n_estimators=15; total time=   4.7s\n",
      "[CV 8/10; 3/10] START max_depth=6, n_estimators=15..............................\n",
      "[CV 8/10; 3/10] END ............max_depth=6, n_estimators=15; total time=   4.6s\n",
      "[CV 9/10; 3/10] START max_depth=6, n_estimators=15..............................\n",
      "[CV 9/10; 3/10] END ............max_depth=6, n_estimators=15; total time=   4.6s\n",
      "[CV 10/10; 3/10] START max_depth=6, n_estimators=15.............................\n",
      "[CV 10/10; 3/10] END ...........max_depth=6, n_estimators=15; total time=   4.8s\n",
      "[CV 1/10; 4/10] START max_depth=3, n_estimators=15..............................\n",
      "[CV 1/10; 4/10] END ............max_depth=3, n_estimators=15; total time=   2.5s\n",
      "[CV 2/10; 4/10] START max_depth=3, n_estimators=15..............................\n",
      "[CV 2/10; 4/10] END ............max_depth=3, n_estimators=15; total time=   2.6s\n",
      "[CV 3/10; 4/10] START max_depth=3, n_estimators=15..............................\n",
      "[CV 3/10; 4/10] END ............max_depth=3, n_estimators=15; total time=   2.9s\n",
      "[CV 4/10; 4/10] START max_depth=3, n_estimators=15..............................\n",
      "[CV 4/10; 4/10] END ............max_depth=3, n_estimators=15; total time=   2.7s\n",
      "[CV 5/10; 4/10] START max_depth=3, n_estimators=15..............................\n",
      "[CV 5/10; 4/10] END ............max_depth=3, n_estimators=15; total time=   3.0s\n",
      "[CV 6/10; 4/10] START max_depth=3, n_estimators=15..............................\n",
      "[CV 6/10; 4/10] END ............max_depth=3, n_estimators=15; total time=   2.5s\n",
      "[CV 7/10; 4/10] START max_depth=3, n_estimators=15..............................\n",
      "[CV 7/10; 4/10] END ............max_depth=3, n_estimators=15; total time=   2.5s\n",
      "[CV 8/10; 4/10] START max_depth=3, n_estimators=15..............................\n",
      "[CV 8/10; 4/10] END ............max_depth=3, n_estimators=15; total time=   2.6s\n",
      "[CV 9/10; 4/10] START max_depth=3, n_estimators=15..............................\n",
      "[CV 9/10; 4/10] END ............max_depth=3, n_estimators=15; total time=   2.5s\n",
      "[CV 10/10; 4/10] START max_depth=3, n_estimators=15.............................\n",
      "[CV 10/10; 4/10] END ...........max_depth=3, n_estimators=15; total time=   2.7s\n",
      "[CV 1/10; 5/10] START max_depth=4, n_estimators=15..............................\n",
      "[CV 1/10; 5/10] END ............max_depth=4, n_estimators=15; total time=   4.7s\n",
      "[CV 2/10; 5/10] START max_depth=4, n_estimators=15..............................\n",
      "[CV 2/10; 5/10] END ............max_depth=4, n_estimators=15; total time=   3.5s\n",
      "[CV 3/10; 5/10] START max_depth=4, n_estimators=15..............................\n",
      "[CV 3/10; 5/10] END ............max_depth=4, n_estimators=15; total time=   3.9s\n",
      "[CV 4/10; 5/10] START max_depth=4, n_estimators=15..............................\n",
      "[CV 4/10; 5/10] END ............max_depth=4, n_estimators=15; total time=   3.7s\n",
      "[CV 5/10; 5/10] START max_depth=4, n_estimators=15..............................\n",
      "[CV 5/10; 5/10] END ............max_depth=4, n_estimators=15; total time=   3.8s\n",
      "[CV 6/10; 5/10] START max_depth=4, n_estimators=15..............................\n",
      "[CV 6/10; 5/10] END ............max_depth=4, n_estimators=15; total time=   3.5s\n",
      "[CV 7/10; 5/10] START max_depth=4, n_estimators=15..............................\n",
      "[CV 7/10; 5/10] END ............max_depth=4, n_estimators=15; total time=   3.4s\n",
      "[CV 8/10; 5/10] START max_depth=4, n_estimators=15..............................\n",
      "[CV 8/10; 5/10] END ............max_depth=4, n_estimators=15; total time=   4.5s\n",
      "[CV 9/10; 5/10] START max_depth=4, n_estimators=15..............................\n",
      "[CV 9/10; 5/10] END ............max_depth=4, n_estimators=15; total time=   4.1s\n",
      "[CV 10/10; 5/10] START max_depth=4, n_estimators=15.............................\n",
      "[CV 10/10; 5/10] END ...........max_depth=4, n_estimators=15; total time=   3.5s\n",
      "[CV 1/10; 6/10] START max_depth=4, n_estimators=10..............................\n",
      "[CV 1/10; 6/10] END ............max_depth=4, n_estimators=10; total time=   2.5s\n",
      "[CV 2/10; 6/10] START max_depth=4, n_estimators=10..............................\n",
      "[CV 2/10; 6/10] END ............max_depth=4, n_estimators=10; total time=   2.3s\n",
      "[CV 3/10; 6/10] START max_depth=4, n_estimators=10..............................\n",
      "[CV 3/10; 6/10] END ............max_depth=4, n_estimators=10; total time=   3.1s\n",
      "[CV 4/10; 6/10] START max_depth=4, n_estimators=10..............................\n",
      "[CV 4/10; 6/10] END ............max_depth=4, n_estimators=10; total time=   2.9s\n",
      "[CV 5/10; 6/10] START max_depth=4, n_estimators=10..............................\n",
      "[CV 5/10; 6/10] END ............max_depth=4, n_estimators=10; total time=   2.5s\n",
      "[CV 6/10; 6/10] START max_depth=4, n_estimators=10..............................\n",
      "[CV 6/10; 6/10] END ............max_depth=4, n_estimators=10; total time=   2.5s\n",
      "[CV 7/10; 6/10] START max_depth=4, n_estimators=10..............................\n",
      "[CV 7/10; 6/10] END ............max_depth=4, n_estimators=10; total time=   2.2s\n",
      "[CV 8/10; 6/10] START max_depth=4, n_estimators=10..............................\n",
      "[CV 8/10; 6/10] END ............max_depth=4, n_estimators=10; total time=   2.3s\n",
      "[CV 9/10; 6/10] START max_depth=4, n_estimators=10..............................\n",
      "[CV 9/10; 6/10] END ............max_depth=4, n_estimators=10; total time=   2.5s\n",
      "[CV 10/10; 6/10] START max_depth=4, n_estimators=10.............................\n",
      "[CV 10/10; 6/10] END ...........max_depth=4, n_estimators=10; total time=   3.6s\n",
      "[CV 1/10; 7/10] START max_depth=6, n_estimators=50..............................\n",
      "[CV 1/10; 7/10] END ............max_depth=6, n_estimators=50; total time=  14.6s\n",
      "[CV 2/10; 7/10] START max_depth=6, n_estimators=50..............................\n",
      "[CV 2/10; 7/10] END ............max_depth=6, n_estimators=50; total time=  14.9s\n",
      "[CV 3/10; 7/10] START max_depth=6, n_estimators=50..............................\n",
      "[CV 3/10; 7/10] END ............max_depth=6, n_estimators=50; total time=  16.8s\n",
      "[CV 4/10; 7/10] START max_depth=6, n_estimators=50..............................\n",
      "[CV 4/10; 7/10] END ............max_depth=6, n_estimators=50; total time=  15.6s\n",
      "[CV 5/10; 7/10] START max_depth=6, n_estimators=50..............................\n",
      "[CV 5/10; 7/10] END ............max_depth=6, n_estimators=50; total time=  15.3s\n",
      "[CV 6/10; 7/10] START max_depth=6, n_estimators=50..............................\n",
      "[CV 6/10; 7/10] END ............max_depth=6, n_estimators=50; total time=  16.7s\n",
      "[CV 7/10; 7/10] START max_depth=6, n_estimators=50..............................\n",
      "[CV 7/10; 7/10] END ............max_depth=6, n_estimators=50; total time=  17.1s\n",
      "[CV 8/10; 7/10] START max_depth=6, n_estimators=50..............................\n",
      "[CV 8/10; 7/10] END ............max_depth=6, n_estimators=50; total time=  16.0s\n",
      "[CV 9/10; 7/10] START max_depth=6, n_estimators=50..............................\n",
      "[CV 9/10; 7/10] END ............max_depth=6, n_estimators=50; total time=  17.0s\n",
      "[CV 10/10; 7/10] START max_depth=6, n_estimators=50.............................\n",
      "[CV 10/10; 7/10] END ...........max_depth=6, n_estimators=50; total time=  14.3s\n",
      "[CV 1/10; 8/10] START max_depth=5, n_estimators=15..............................\n",
      "[CV 1/10; 8/10] END ............max_depth=5, n_estimators=15; total time=   4.3s\n",
      "[CV 2/10; 8/10] START max_depth=5, n_estimators=15..............................\n",
      "[CV 2/10; 8/10] END ............max_depth=5, n_estimators=15; total time=   4.2s\n",
      "[CV 3/10; 8/10] START max_depth=5, n_estimators=15..............................\n",
      "[CV 3/10; 8/10] END ............max_depth=5, n_estimators=15; total time=   4.0s\n",
      "[CV 4/10; 8/10] START max_depth=5, n_estimators=15..............................\n",
      "[CV 4/10; 8/10] END ............max_depth=5, n_estimators=15; total time=   4.5s\n",
      "[CV 5/10; 8/10] START max_depth=5, n_estimators=15..............................\n",
      "[CV 5/10; 8/10] END ............max_depth=5, n_estimators=15; total time=   3.9s\n",
      "[CV 6/10; 8/10] START max_depth=5, n_estimators=15..............................\n",
      "[CV 6/10; 8/10] END ............max_depth=5, n_estimators=15; total time=   4.3s\n",
      "[CV 7/10; 8/10] START max_depth=5, n_estimators=15..............................\n",
      "[CV 7/10; 8/10] END ............max_depth=5, n_estimators=15; total time=   5.1s\n",
      "[CV 8/10; 8/10] START max_depth=5, n_estimators=15..............................\n",
      "[CV 8/10; 8/10] END ............max_depth=5, n_estimators=15; total time=   4.0s\n",
      "[CV 9/10; 8/10] START max_depth=5, n_estimators=15..............................\n",
      "[CV 9/10; 8/10] END ............max_depth=5, n_estimators=15; total time=   4.8s\n",
      "[CV 10/10; 8/10] START max_depth=5, n_estimators=15.............................\n",
      "[CV 10/10; 8/10] END ...........max_depth=5, n_estimators=15; total time=   4.4s\n",
      "[CV 1/10; 9/10] START max_depth=6, n_estimators=25..............................\n",
      "[CV 1/10; 9/10] END ............max_depth=6, n_estimators=25; total time=   9.0s\n",
      "[CV 2/10; 9/10] START max_depth=6, n_estimators=25..............................\n",
      "[CV 2/10; 9/10] END ............max_depth=6, n_estimators=25; total time=   8.8s\n",
      "[CV 3/10; 9/10] START max_depth=6, n_estimators=25..............................\n",
      "[CV 3/10; 9/10] END ............max_depth=6, n_estimators=25; total time=   8.1s\n",
      "[CV 4/10; 9/10] START max_depth=6, n_estimators=25..............................\n",
      "[CV 4/10; 9/10] END ............max_depth=6, n_estimators=25; total time=   9.4s\n",
      "[CV 5/10; 9/10] START max_depth=6, n_estimators=25..............................\n",
      "[CV 5/10; 9/10] END ............max_depth=6, n_estimators=25; total time=   7.7s\n",
      "[CV 6/10; 9/10] START max_depth=6, n_estimators=25..............................\n",
      "[CV 6/10; 9/10] END ............max_depth=6, n_estimators=25; total time=   8.9s\n",
      "[CV 7/10; 9/10] START max_depth=6, n_estimators=25..............................\n",
      "[CV 7/10; 9/10] END ............max_depth=6, n_estimators=25; total time=   7.5s\n",
      "[CV 8/10; 9/10] START max_depth=6, n_estimators=25..............................\n",
      "[CV 8/10; 9/10] END ............max_depth=6, n_estimators=25; total time=   8.0s\n",
      "[CV 9/10; 9/10] START max_depth=6, n_estimators=25..............................\n",
      "[CV 9/10; 9/10] END ............max_depth=6, n_estimators=25; total time=   7.4s\n",
      "[CV 10/10; 9/10] START max_depth=6, n_estimators=25.............................\n",
      "[CV 10/10; 9/10] END ...........max_depth=6, n_estimators=25; total time=   8.0s\n",
      "[CV 1/10; 10/10] START max_depth=5, n_estimators=25.............................\n",
      "[CV 1/10; 10/10] END ...........max_depth=5, n_estimators=25; total time=   7.2s\n",
      "[CV 2/10; 10/10] START max_depth=5, n_estimators=25.............................\n",
      "[CV 2/10; 10/10] END ...........max_depth=5, n_estimators=25; total time=   7.4s\n",
      "[CV 3/10; 10/10] START max_depth=5, n_estimators=25.............................\n",
      "[CV 3/10; 10/10] END ...........max_depth=5, n_estimators=25; total time=   8.0s\n",
      "[CV 4/10; 10/10] START max_depth=5, n_estimators=25.............................\n",
      "[CV 4/10; 10/10] END ...........max_depth=5, n_estimators=25; total time=   6.4s\n",
      "[CV 5/10; 10/10] START max_depth=5, n_estimators=25.............................\n",
      "[CV 5/10; 10/10] END ...........max_depth=5, n_estimators=25; total time=   6.3s\n",
      "[CV 6/10; 10/10] START max_depth=5, n_estimators=25.............................\n",
      "[CV 6/10; 10/10] END ...........max_depth=5, n_estimators=25; total time=   6.4s\n",
      "[CV 7/10; 10/10] START max_depth=5, n_estimators=25.............................\n",
      "[CV 7/10; 10/10] END ...........max_depth=5, n_estimators=25; total time=   7.9s\n",
      "[CV 8/10; 10/10] START max_depth=5, n_estimators=25.............................\n",
      "[CV 8/10; 10/10] END ...........max_depth=5, n_estimators=25; total time=   7.2s\n",
      "[CV 9/10; 10/10] START max_depth=5, n_estimators=25.............................\n",
      "[CV 9/10; 10/10] END ...........max_depth=5, n_estimators=25; total time=   7.4s\n",
      "[CV 10/10; 10/10] START max_depth=5, n_estimators=25............................\n",
      "[CV 10/10; 10/10] END ..........max_depth=5, n_estimators=25; total time=   6.7s\n"
     ]
    },
    {
     "data": {
      "text/plain": [
       "RandomizedSearchCV(cv=10, estimator=RandomForestRegressor(random_state=42),\n",
       "                   param_distributions={'max_depth': range(3, 7),\n",
       "                                        'n_estimators': (10, 50, 15, 20, 25)},\n",
       "                   scoring='neg_mean_squared_error', verbose=20)"
      ]
     },
     "execution_count": 40,
     "metadata": {},
     "output_type": "execute_result"
    }
   ],
   "source": [
    "random_search.fit(x_train, y_train)"
   ]
  },
  {
   "cell_type": "code",
   "execution_count": 41,
   "id": "d5a3014f",
   "metadata": {},
   "outputs": [
    {
     "data": {
      "text/plain": [
       "RandomForestRegressor(max_depth=6, n_estimators=50, random_state=42)"
      ]
     },
     "execution_count": 41,
     "metadata": {},
     "output_type": "execute_result"
    }
   ],
   "source": [
    "random_search.best_estimator_"
   ]
  },
  {
   "cell_type": "code",
   "execution_count": 42,
   "id": "423a1291",
   "metadata": {},
   "outputs": [],
   "source": [
    "def report(results, n_top=3):\n",
    "    for i in range(1, n_top + 1):\n",
    "        # np.flatnonzero extracts index of `True` in a boolean array\n",
    "        candidate = np.flatnonzero(results['rank_test_score'] == i)[0]\n",
    "        # print rank of the model\n",
    "        # values passed to function format here are put in the curly brackets when printing\n",
    "        # 0 , 1 etc refer to placeholder for position of values passed to format function\n",
    "        # .3f means upto 2 decimal digits\n",
    "        print(\"Model with rank: {0}\".format(i))\n",
    "        # this prints cross validated performance and its standard deviation\n",
    "        print(\"Mean validation score: {0:.5f} (std: {1:.5f})\".format(\n",
    "            results['mean_test_score'][candidate],\n",
    "            results['std_test_score'][candidate]))\n",
    "        # prints the paramter combination for which this performance was obtained\n",
    "        print(\"Parameters: {0}\".format(results['params'][candidate]))\n",
    "        print(\"\")"
   ]
  },
  {
   "cell_type": "code",
   "execution_count": 43,
   "id": "947c0dc4",
   "metadata": {},
   "outputs": [
    {
     "name": "stdout",
     "output_type": "stream",
     "text": [
      "Model with rank: 1\n",
      "Mean validation score: -1147537.08607 (std: 94157.84903)\n",
      "Parameters: {'n_estimators': 50, 'max_depth': 6}\n",
      "\n",
      "Model with rank: 2\n",
      "Mean validation score: -1147594.79486 (std: 95883.12440)\n",
      "Parameters: {'n_estimators': 25, 'max_depth': 5}\n",
      "\n",
      "Model with rank: 3\n",
      "Mean validation score: -1147746.96409 (std: 95667.51379)\n",
      "Parameters: {'n_estimators': 25, 'max_depth': 6}\n",
      "\n",
      "Model with rank: 4\n",
      "Mean validation score: -1147757.39569 (std: 97808.82751)\n",
      "Parameters: {'n_estimators': 15, 'max_depth': 5}\n",
      "\n",
      "Model with rank: 5\n",
      "Mean validation score: -1149204.77823 (std: 96709.68877)\n",
      "Parameters: {'n_estimators': 15, 'max_depth': 6}\n",
      "\n"
     ]
    }
   ],
   "source": [
    "report(random_search.cv_results_,5)"
   ]
  },
  {
   "cell_type": "code",
   "execution_count": 44,
   "id": "fd14da7c",
   "metadata": {},
   "outputs": [],
   "source": [
    "rf=RandomForestRegressor(bootstrap=True, criterion='mse', max_depth=5,\n",
    "           max_features='auto', max_leaf_nodes=None,\n",
    "           min_impurity_decrease=0.0, min_impurity_split=None,\n",
    "           min_samples_leaf=1, min_samples_split=2,\n",
    "           min_weight_fraction_leaf=0.0, n_estimators=10, n_jobs=1,\n",
    "           oob_score=False, random_state=0, verbose=0, warm_start=False)"
   ]
  },
  {
   "cell_type": "code",
   "execution_count": 45,
   "id": "1822c1c1",
   "metadata": {},
   "outputs": [
    {
     "data": {
      "text/plain": [
       "RandomForestRegressor(max_depth=5, n_estimators=10, n_jobs=1, random_state=0)"
      ]
     },
     "execution_count": 45,
     "metadata": {},
     "output_type": "execute_result"
    }
   ],
   "source": [
    "rf.fit(x_train,y_train)"
   ]
  },
  {
   "cell_type": "code",
   "execution_count": 46,
   "id": "df8df5d2",
   "metadata": {},
   "outputs": [],
   "source": [
    "test_score=rf.predict(test1)"
   ]
  },
  {
   "cell_type": "code",
   "execution_count": 47,
   "id": "0c432e0b",
   "metadata": {},
   "outputs": [
    {
     "data": {
      "text/plain": [
       "array([2119.85776323, 4052.38608642, 1578.20358895, ..., 2934.80853295,\n",
       "       3957.09263262, 4005.8332279 ])"
      ]
     },
     "execution_count": 47,
     "metadata": {},
     "output_type": "execute_result"
    }
   ],
   "source": [
    "test_score"
   ]
  },
  {
   "cell_type": "code",
   "execution_count": null,
   "id": "7f86d836",
   "metadata": {},
   "outputs": [],
   "source": []
  },
  {
   "cell_type": "code",
   "execution_count": 48,
   "id": "3456a448",
   "metadata": {},
   "outputs": [],
   "source": [
    "test3=pd.read_csv(\"pharama test.csv\")"
   ]
  },
  {
   "cell_type": "code",
   "execution_count": 49,
   "id": "958825ca",
   "metadata": {},
   "outputs": [],
   "source": [
    "mid=test3['Medicine_ID']"
   ]
  },
  {
   "cell_type": "code",
   "execution_count": 50,
   "id": "0dfce4d5",
   "metadata": {},
   "outputs": [],
   "source": [
    "mid=pd.DataFrame(mid)"
   ]
  },
  {
   "cell_type": "code",
   "execution_count": null,
   "id": "71153a17",
   "metadata": {},
   "outputs": [],
   "source": []
  },
  {
   "cell_type": "code",
   "execution_count": 51,
   "id": "9ac76f19",
   "metadata": {},
   "outputs": [],
   "source": [
    "target=pd.DataFrame(test_score)"
   ]
  },
  {
   "cell_type": "code",
   "execution_count": null,
   "id": "9889571e",
   "metadata": {},
   "outputs": [],
   "source": []
  },
  {
   "cell_type": "code",
   "execution_count": 52,
   "id": "dd9210f8",
   "metadata": {},
   "outputs": [],
   "source": [
    "target=target.rename(columns={0:'Counterfeit_Sales'})"
   ]
  },
  {
   "cell_type": "code",
   "execution_count": 53,
   "id": "754f801c",
   "metadata": {},
   "outputs": [],
   "source": [
    "final=pd.concat([mid,target],axis=1)"
   ]
  },
  {
   "cell_type": "code",
   "execution_count": 54,
   "id": "6fb345fe",
   "metadata": {},
   "outputs": [
    {
     "data": {
      "text/html": [
       "<div>\n",
       "<style scoped>\n",
       "    .dataframe tbody tr th:only-of-type {\n",
       "        vertical-align: middle;\n",
       "    }\n",
       "\n",
       "    .dataframe tbody tr th {\n",
       "        vertical-align: top;\n",
       "    }\n",
       "\n",
       "    .dataframe thead th {\n",
       "        text-align: right;\n",
       "    }\n",
       "</style>\n",
       "<table border=\"1\" class=\"dataframe\">\n",
       "  <thead>\n",
       "    <tr style=\"text-align: right;\">\n",
       "      <th></th>\n",
       "      <th>Medicine_ID</th>\n",
       "      <th>Counterfeit_Sales</th>\n",
       "    </tr>\n",
       "  </thead>\n",
       "  <tbody>\n",
       "    <tr>\n",
       "      <th>0</th>\n",
       "      <td>HLZ81</td>\n",
       "      <td>2119.857763</td>\n",
       "    </tr>\n",
       "    <tr>\n",
       "      <th>1</th>\n",
       "      <td>ECE94</td>\n",
       "      <td>4052.386086</td>\n",
       "    </tr>\n",
       "    <tr>\n",
       "      <th>2</th>\n",
       "      <td>SAD14</td>\n",
       "      <td>1578.203589</td>\n",
       "    </tr>\n",
       "    <tr>\n",
       "      <th>3</th>\n",
       "      <td>EQV63</td>\n",
       "      <td>393.255069</td>\n",
       "    </tr>\n",
       "    <tr>\n",
       "      <th>4</th>\n",
       "      <td>AIR10</td>\n",
       "      <td>376.695769</td>\n",
       "    </tr>\n",
       "    <tr>\n",
       "      <th>5</th>\n",
       "      <td>LIC37</td>\n",
       "      <td>584.543199</td>\n",
       "    </tr>\n",
       "    <tr>\n",
       "      <th>6</th>\n",
       "      <td>EXZ14</td>\n",
       "      <td>3976.060195</td>\n",
       "    </tr>\n",
       "    <tr>\n",
       "      <th>7</th>\n",
       "      <td>UCB79</td>\n",
       "      <td>3751.238457</td>\n",
       "    </tr>\n",
       "    <tr>\n",
       "      <th>8</th>\n",
       "      <td>IDJ12</td>\n",
       "      <td>6000.919715</td>\n",
       "    </tr>\n",
       "    <tr>\n",
       "      <th>9</th>\n",
       "      <td>KLQ71</td>\n",
       "      <td>1578.203589</td>\n",
       "    </tr>\n",
       "    <tr>\n",
       "      <th>10</th>\n",
       "      <td>NZS82</td>\n",
       "      <td>2753.335349</td>\n",
       "    </tr>\n",
       "    <tr>\n",
       "      <th>11</th>\n",
       "      <td>TZV99</td>\n",
       "      <td>4052.386086</td>\n",
       "    </tr>\n",
       "    <tr>\n",
       "      <th>12</th>\n",
       "      <td>FWK70</td>\n",
       "      <td>2532.643056</td>\n",
       "    </tr>\n",
       "    <tr>\n",
       "      <th>13</th>\n",
       "      <td>LKL13</td>\n",
       "      <td>2651.992480</td>\n",
       "    </tr>\n",
       "    <tr>\n",
       "      <th>14</th>\n",
       "      <td>UFQ12</td>\n",
       "      <td>6128.036801</td>\n",
       "    </tr>\n",
       "    <tr>\n",
       "      <th>15</th>\n",
       "      <td>JPE14</td>\n",
       "      <td>3129.923280</td>\n",
       "    </tr>\n",
       "    <tr>\n",
       "      <th>16</th>\n",
       "      <td>SGZ11</td>\n",
       "      <td>2505.756107</td>\n",
       "    </tr>\n",
       "    <tr>\n",
       "      <th>17</th>\n",
       "      <td>JSD91</td>\n",
       "      <td>2651.992480</td>\n",
       "    </tr>\n",
       "    <tr>\n",
       "      <th>18</th>\n",
       "      <td>KSO48</td>\n",
       "      <td>3129.923280</td>\n",
       "    </tr>\n",
       "    <tr>\n",
       "      <th>19</th>\n",
       "      <td>LNA17</td>\n",
       "      <td>832.049743</td>\n",
       "    </tr>\n",
       "    <tr>\n",
       "      <th>20</th>\n",
       "      <td>XQB11</td>\n",
       "      <td>1711.051159</td>\n",
       "    </tr>\n",
       "    <tr>\n",
       "      <th>21</th>\n",
       "      <td>ZKO55</td>\n",
       "      <td>1711.051159</td>\n",
       "    </tr>\n",
       "    <tr>\n",
       "      <th>22</th>\n",
       "      <td>DZC65</td>\n",
       "      <td>901.726320</td>\n",
       "    </tr>\n",
       "    <tr>\n",
       "      <th>23</th>\n",
       "      <td>CYS10</td>\n",
       "      <td>3129.923280</td>\n",
       "    </tr>\n",
       "    <tr>\n",
       "      <th>24</th>\n",
       "      <td>IOW64</td>\n",
       "      <td>2532.643056</td>\n",
       "    </tr>\n",
       "    <tr>\n",
       "      <th>25</th>\n",
       "      <td>JJQ10</td>\n",
       "      <td>3129.923280</td>\n",
       "    </tr>\n",
       "    <tr>\n",
       "      <th>26</th>\n",
       "      <td>ZVR52</td>\n",
       "      <td>2165.049116</td>\n",
       "    </tr>\n",
       "    <tr>\n",
       "      <th>27</th>\n",
       "      <td>DRH86</td>\n",
       "      <td>862.301443</td>\n",
       "    </tr>\n",
       "    <tr>\n",
       "      <th>28</th>\n",
       "      <td>HWM68</td>\n",
       "      <td>2753.335349</td>\n",
       "    </tr>\n",
       "    <tr>\n",
       "      <th>29</th>\n",
       "      <td>OHY21</td>\n",
       "      <td>2489.661236</td>\n",
       "    </tr>\n",
       "    <tr>\n",
       "      <th>30</th>\n",
       "      <td>EVB28</td>\n",
       "      <td>1136.586733</td>\n",
       "    </tr>\n",
       "    <tr>\n",
       "      <th>31</th>\n",
       "      <td>WGT10</td>\n",
       "      <td>2324.939576</td>\n",
       "    </tr>\n",
       "    <tr>\n",
       "      <th>32</th>\n",
       "      <td>TXX50</td>\n",
       "      <td>2805.792857</td>\n",
       "    </tr>\n",
       "    <tr>\n",
       "      <th>33</th>\n",
       "      <td>XHQ12</td>\n",
       "      <td>804.354512</td>\n",
       "    </tr>\n",
       "    <tr>\n",
       "      <th>34</th>\n",
       "      <td>BUQ68</td>\n",
       "      <td>2651.992480</td>\n",
       "    </tr>\n",
       "    <tr>\n",
       "      <th>35</th>\n",
       "      <td>GPT11</td>\n",
       "      <td>2378.255071</td>\n",
       "    </tr>\n",
       "    <tr>\n",
       "      <th>36</th>\n",
       "      <td>DBA13</td>\n",
       "      <td>862.301443</td>\n",
       "    </tr>\n",
       "    <tr>\n",
       "      <th>37</th>\n",
       "      <td>VLR10</td>\n",
       "      <td>1805.330926</td>\n",
       "    </tr>\n",
       "    <tr>\n",
       "      <th>38</th>\n",
       "      <td>TXX50</td>\n",
       "      <td>2711.998185</td>\n",
       "    </tr>\n",
       "    <tr>\n",
       "      <th>39</th>\n",
       "      <td>PPB10</td>\n",
       "      <td>3957.092633</td>\n",
       "    </tr>\n",
       "    <tr>\n",
       "      <th>40</th>\n",
       "      <td>IAS38</td>\n",
       "      <td>3129.923280</td>\n",
       "    </tr>\n",
       "    <tr>\n",
       "      <th>41</th>\n",
       "      <td>FLZ93</td>\n",
       "      <td>2532.643056</td>\n",
       "    </tr>\n",
       "    <tr>\n",
       "      <th>42</th>\n",
       "      <td>DEE35</td>\n",
       "      <td>2532.643056</td>\n",
       "    </tr>\n",
       "    <tr>\n",
       "      <th>43</th>\n",
       "      <td>DFS52</td>\n",
       "      <td>3129.923280</td>\n",
       "    </tr>\n",
       "    <tr>\n",
       "      <th>44</th>\n",
       "      <td>JCW15</td>\n",
       "      <td>610.632884</td>\n",
       "    </tr>\n",
       "    <tr>\n",
       "      <th>45</th>\n",
       "      <td>CGG23</td>\n",
       "      <td>1212.092367</td>\n",
       "    </tr>\n",
       "    <tr>\n",
       "      <th>46</th>\n",
       "      <td>OJV12</td>\n",
       "      <td>1908.991169</td>\n",
       "    </tr>\n",
       "    <tr>\n",
       "      <th>47</th>\n",
       "      <td>MCQ36</td>\n",
       "      <td>3895.349402</td>\n",
       "    </tr>\n",
       "    <tr>\n",
       "      <th>48</th>\n",
       "      <td>YJD12</td>\n",
       "      <td>2934.808533</td>\n",
       "    </tr>\n",
       "    <tr>\n",
       "      <th>49</th>\n",
       "      <td>EOK39</td>\n",
       "      <td>320.084726</td>\n",
       "    </tr>\n",
       "    <tr>\n",
       "      <th>50</th>\n",
       "      <td>IYM95</td>\n",
       "      <td>3129.923280</td>\n",
       "    </tr>\n",
       "    <tr>\n",
       "      <th>51</th>\n",
       "      <td>JBY12</td>\n",
       "      <td>2934.808533</td>\n",
       "    </tr>\n",
       "    <tr>\n",
       "      <th>52</th>\n",
       "      <td>EVE11</td>\n",
       "      <td>3329.067675</td>\n",
       "    </tr>\n",
       "    <tr>\n",
       "      <th>53</th>\n",
       "      <td>IAS38</td>\n",
       "      <td>3129.923280</td>\n",
       "    </tr>\n",
       "    <tr>\n",
       "      <th>54</th>\n",
       "      <td>LKG52</td>\n",
       "      <td>2942.285386</td>\n",
       "    </tr>\n",
       "    <tr>\n",
       "      <th>55</th>\n",
       "      <td>LCH20</td>\n",
       "      <td>804.354512</td>\n",
       "    </tr>\n",
       "    <tr>\n",
       "      <th>56</th>\n",
       "      <td>DQX15</td>\n",
       "      <td>288.748320</td>\n",
       "    </tr>\n",
       "    <tr>\n",
       "      <th>57</th>\n",
       "      <td>CPF13</td>\n",
       "      <td>2934.808533</td>\n",
       "    </tr>\n",
       "    <tr>\n",
       "      <th>58</th>\n",
       "      <td>MXD18</td>\n",
       "      <td>4130.162161</td>\n",
       "    </tr>\n",
       "    <tr>\n",
       "      <th>59</th>\n",
       "      <td>UJL53</td>\n",
       "      <td>3751.238457</td>\n",
       "    </tr>\n",
       "  </tbody>\n",
       "</table>\n",
       "</div>"
      ],
      "text/plain": [
       "   Medicine_ID  Counterfeit_Sales\n",
       "0        HLZ81        2119.857763\n",
       "1        ECE94        4052.386086\n",
       "2        SAD14        1578.203589\n",
       "3        EQV63         393.255069\n",
       "4        AIR10         376.695769\n",
       "5        LIC37         584.543199\n",
       "6        EXZ14        3976.060195\n",
       "7        UCB79        3751.238457\n",
       "8        IDJ12        6000.919715\n",
       "9        KLQ71        1578.203589\n",
       "10       NZS82        2753.335349\n",
       "11       TZV99        4052.386086\n",
       "12       FWK70        2532.643056\n",
       "13       LKL13        2651.992480\n",
       "14       UFQ12        6128.036801\n",
       "15       JPE14        3129.923280\n",
       "16       SGZ11        2505.756107\n",
       "17       JSD91        2651.992480\n",
       "18       KSO48        3129.923280\n",
       "19       LNA17         832.049743\n",
       "20       XQB11        1711.051159\n",
       "21       ZKO55        1711.051159\n",
       "22       DZC65         901.726320\n",
       "23       CYS10        3129.923280\n",
       "24       IOW64        2532.643056\n",
       "25       JJQ10        3129.923280\n",
       "26       ZVR52        2165.049116\n",
       "27       DRH86         862.301443\n",
       "28       HWM68        2753.335349\n",
       "29       OHY21        2489.661236\n",
       "30       EVB28        1136.586733\n",
       "31       WGT10        2324.939576\n",
       "32       TXX50        2805.792857\n",
       "33       XHQ12         804.354512\n",
       "34       BUQ68        2651.992480\n",
       "35       GPT11        2378.255071\n",
       "36       DBA13         862.301443\n",
       "37       VLR10        1805.330926\n",
       "38       TXX50        2711.998185\n",
       "39       PPB10        3957.092633\n",
       "40       IAS38        3129.923280\n",
       "41       FLZ93        2532.643056\n",
       "42       DEE35        2532.643056\n",
       "43       DFS52        3129.923280\n",
       "44       JCW15         610.632884\n",
       "45       CGG23        1212.092367\n",
       "46       OJV12        1908.991169\n",
       "47       MCQ36        3895.349402\n",
       "48       YJD12        2934.808533\n",
       "49       EOK39         320.084726\n",
       "50       IYM95        3129.923280\n",
       "51       JBY12        2934.808533\n",
       "52       EVE11        3329.067675\n",
       "53       IAS38        3129.923280\n",
       "54       LKG52        2942.285386\n",
       "55       LCH20         804.354512\n",
       "56       DQX15         288.748320\n",
       "57       CPF13        2934.808533\n",
       "58       MXD18        4130.162161\n",
       "59       UJL53        3751.238457"
      ]
     },
     "execution_count": 54,
     "metadata": {},
     "output_type": "execute_result"
    }
   ],
   "source": [
    "final.head(60)"
   ]
  },
  {
   "cell_type": "code",
   "execution_count": 55,
   "id": "01f9ed69",
   "metadata": {},
   "outputs": [],
   "source": [
    "pd.DataFrame(final).to_csv(\"TanviProject3.csv\",index=False)"
   ]
  },
  {
   "cell_type": "code",
   "execution_count": null,
   "id": "e59f322c",
   "metadata": {},
   "outputs": [],
   "source": []
  },
  {
   "cell_type": "code",
   "execution_count": null,
   "id": "e9f3aa74",
   "metadata": {},
   "outputs": [],
   "source": []
  },
  {
   "cell_type": "code",
   "execution_count": null,
   "id": "ef38062b",
   "metadata": {},
   "outputs": [],
   "source": []
  },
  {
   "cell_type": "code",
   "execution_count": null,
   "id": "8eb67f73",
   "metadata": {},
   "outputs": [],
   "source": [
    "\n",
    "  "
   ]
  },
  {
   "cell_type": "code",
   "execution_count": null,
   "id": "4df35b8a",
   "metadata": {},
   "outputs": [],
   "source": []
  },
  {
   "cell_type": "code",
   "execution_count": null,
   "id": "51a3cf13",
   "metadata": {},
   "outputs": [],
   "source": []
  },
  {
   "cell_type": "code",
   "execution_count": null,
   "id": "47f8ab76",
   "metadata": {},
   "outputs": [],
   "source": []
  },
  {
   "cell_type": "code",
   "execution_count": null,
   "id": "298935db",
   "metadata": {},
   "outputs": [],
   "source": []
  },
  {
   "cell_type": "code",
   "execution_count": null,
   "id": "b89d38ba",
   "metadata": {},
   "outputs": [],
   "source": []
  },
  {
   "cell_type": "code",
   "execution_count": null,
   "id": "ef03ebe2",
   "metadata": {},
   "outputs": [],
   "source": []
  },
  {
   "cell_type": "code",
   "execution_count": null,
   "id": "b5dc2ec7",
   "metadata": {},
   "outputs": [],
   "source": []
  }
 ],
 "metadata": {
  "kernelspec": {
   "display_name": "Python 3",
   "language": "python",
   "name": "python3"
  },
  "language_info": {
   "codemirror_mode": {
    "name": "ipython",
    "version": 3
   },
   "file_extension": ".py",
   "mimetype": "text/x-python",
   "name": "python",
   "nbconvert_exporter": "python",
   "pygments_lexer": "ipython3",
   "version": "3.8.8"
  }
 },
 "nbformat": 4,
 "nbformat_minor": 5
}
